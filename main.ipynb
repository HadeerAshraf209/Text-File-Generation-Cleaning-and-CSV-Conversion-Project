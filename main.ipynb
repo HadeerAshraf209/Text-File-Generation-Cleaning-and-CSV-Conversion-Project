{
 "cells": [
  {
   "cell_type": "code",
   "execution_count": 1,
   "metadata": {},
   "outputs": [],
   "source": [
    "# Required libraries\n",
    "import os, re, random, csv\n",
    "from glob import iglob\n",
    "import pandas as pd"
   ]
  },
  {
   "cell_type": "code",
   "execution_count": 32,
   "metadata": {},
   "outputs": [
    {
     "name": "stdout",
     "output_type": "stream",
     "text": [
      "Directory already exists\n"
     ]
    }
   ],
   "source": [
    "# Creating a folder\n",
    "try:\n",
    "  path = os.mkdir(r\"C:\\Users\\Hadeer Ashraf\\OneDrive\\Desktop\\DEPI - MS Data Engineer\\PYTHON\\10_Files_V2\")\n",
    "except FileExistsError:\n",
    "  print('Directory already exists')"
   ]
  },
  {
   "cell_type": "code",
   "execution_count": 33,
   "metadata": {},
   "outputs": [
    {
     "data": {
      "text/plain": [
       "<generator object generate_txt at 0x00000199AA8AFD80>"
      ]
     },
     "execution_count": 33,
     "metadata": {},
     "output_type": "execute_result"
    }
   ],
   "source": [
    "# Generate 10 txt files\n",
    "\n",
    "def generate_txt():\n",
    "    n = 1\n",
    "    while n <= 10:\n",
    "        print(f\"Creating file{n}.txt\")\n",
    "        yield n\n",
    "        with open(fr\"C:\\Users\\Hadeer Ashraf\\OneDrive\\Desktop\\DEPI - MS Data Engineer\\PYTHON\\10_Files_V2\\file{n}.txt\", 'w') as file:\n",
    "            file.write(f\"ID, {n}, Name, \")\n",
    "        n += 1\n",
    "\n",
    "generate_txt ()"
   ]
  },
  {
   "cell_type": "code",
   "execution_count": 34,
   "metadata": {},
   "outputs": [
    {
     "name": "stdout",
     "output_type": "stream",
     "text": [
      "Creating file1.txt\n",
      "Creating file2.txt\n",
      "Creating file3.txt\n",
      "Creating file4.txt\n",
      "Creating file5.txt\n",
      "Creating file6.txt\n",
      "Creating file7.txt\n",
      "Creating file8.txt\n",
      "Creating file9.txt\n",
      "Creating file10.txt\n"
     ]
    },
    {
     "data": {
      "text/plain": [
       "[1, 2, 3, 4, 5, 6, 7, 8, 9, 10]"
      ]
     },
     "execution_count": 34,
     "metadata": {},
     "output_type": "execute_result"
    }
   ],
   "source": [
    "list(generate_txt ())"
   ]
  },
  {
   "cell_type": "code",
   "execution_count": 35,
   "metadata": {},
   "outputs": [],
   "source": [
    "# Generate name with symbols\n",
    "\n",
    "def generate_name_with_symbols(name):\n",
    "   # List of symbols\n",
    "   symbols = [\"@\", \"/\", \".\", \"!\", \"}\", \";\"]\n",
    "\n",
    "   while  True:\n",
    "     # Choose 3 random symbols\n",
    "      choosen_symbols = random.sample(symbols, 3)\n",
    "\n",
    "      # Choose random positin inside the name\n",
    "      positions = random.sample(range(len(name)), 3)\n",
    "      positions.sort()\n",
    "\n",
    "      # Insert symbols\n",
    "      name_with_symbols =(\n",
    "         name[:positions[0]] + choosen_symbols[0] +\n",
    "         name[positions[0]: positions[1]] + choosen_symbols[1] +\n",
    "         name[positions[1]: positions[2]] + choosen_symbols[2] +\n",
    "         name[positions[2]:]\n",
    "      )\n",
    "    \n",
    "      \"\"\"\n",
    "        position 1 = 4, name[:4] return Hade \n",
    "        then add the first symbol from the list \n",
    "        then add name[4:] which return eer \n",
    "      \"\"\"\n",
    "\n",
    "      yield name_with_symbols"
   ]
  },
  {
   "cell_type": "code",
   "execution_count": 36,
   "metadata": {},
   "outputs": [],
   "source": [
    "# Write name with symbols in txt files\n",
    "def write_my_name():\n",
    "    name = \"Hadeer Ashraf\"\n",
    "    name_generator = generate_name_with_symbols(name)\n",
    "\n",
    "    for n in range(1,11):\n",
    "        file_path = fr\"C:\\Users\\Hadeer Ashraf\\OneDrive\\Desktop\\DEPI - MS Data Engineer\\PYTHON\\10_Files_V2\\file{n}.txt\"\n",
    "\n",
    "        with open(file_path, 'a') as txt_files:\n",
    "            txt_files.write(f\"{next(name_generator)}\")\n",
    "\n",
    "\n",
    "write_my_name()"
   ]
  },
  {
   "cell_type": "code",
   "execution_count": 37,
   "metadata": {},
   "outputs": [],
   "source": [
    "# Reading txt files\n",
    "read_txt_files = iglob(r\"C:\\Users\\Hadeer Ashraf\\OneDrive\\Desktop\\DEPI - MS Data Engineer\\PYTHON\\10_Files_V2\\*.txt\")"
   ]
  },
  {
   "cell_type": "code",
   "execution_count": 38,
   "metadata": {},
   "outputs": [],
   "source": [
    "# Regex to match punctuation \n",
    "r = re.compile(r'[@/.!};]')"
   ]
  },
  {
   "cell_type": "code",
   "execution_count": 39,
   "metadata": {},
   "outputs": [],
   "source": [
    "# Cleaning files content\n",
    "def cleaning_files(file_path):\n",
    "    with open(file_path) as clean_file:\n",
    "        no_punc = r.sub(\"\",clean_file.read())\n",
    "        return no_punc.split()"
   ]
  },
  {
   "cell_type": "code",
   "execution_count": 40,
   "metadata": {},
   "outputs": [
    {
     "name": "stdout",
     "output_type": "stream",
     "text": [
      "Cleaning and writing to new files completed\n"
     ]
    }
   ],
   "source": [
    "# Reading and cleaning txt files\n",
    "for file_path in iglob(r\"C:\\Users\\Hadeer Ashraf\\OneDrive\\Desktop\\DEPI - MS Data Engineer\\PYTHON\\10_Files_V2\\*.txt\"):\n",
    "    \n",
    "    with open(file_path) as original_ID:\n",
    "        id_number = original_ID.readline().strip().split(\",\")[1].strip()\n",
    "\n",
    "    cleaned_content = cleaning_files(file_path)\n",
    "    str_cleaned_content = \" \".join(cleaned_content)\n",
    "    \n",
    "    # New file path to write the clean content\n",
    "    new_file_path = fr\"C:\\Users\\Hadeer Ashraf\\OneDrive\\Desktop\\DEPI - MS Data Engineer\\PYTHON\\10_Files_V2\\cleaned_file{id_number}.txt\"\n",
    "    with open(new_file_path, 'w') as clean_file:\n",
    "        clean_file.write(str_cleaned_content)\n",
    "\n",
    "print(\"Cleaning and writing to new files completed\")"
   ]
  },
  {
   "cell_type": "code",
   "execution_count": 4,
   "metadata": {},
   "outputs": [
    {
     "name": "stdout",
     "output_type": "stream",
     "text": [
      "Conversion completed\n"
     ]
    }
   ],
   "source": [
    "# Convert cleaned txt files to csv\n",
    "\n",
    "def convert_to_csv():\n",
    "    for file_path in iglob(r\"C:\\Users\\Hadeer Ashraf\\OneDrive\\Desktop\\DEPI - MS Data Engineer\\PYTHON\\10_Files_V2\\cleaned_file*.txt\"):\n",
    "\n",
    "        with open(file_path, \"r\") as input_txt:\n",
    "            read_content = input_txt.read()\n",
    "            data = read_content.split(\",\")\n",
    "\n",
    "            id_number = data[1]. strip()\n",
    "\n",
    "            csv_file_path = fr\"C:\\Users\\Hadeer Ashraf\\OneDrive\\Desktop\\DEPI - MS Data Engineer\\PYTHON\\10_Files_V2\\cleaned_file{id_number}.csv\"\n",
    "\n",
    "            with open(csv_file_path, \"w\") as output_csv:\n",
    "                writer = csv.writer(output_csv)\n",
    "                writer.writerow(data)\n",
    "\n",
    "    print(\"Conversion completed\")\n",
    "\n",
    "convert_to_csv()    "
   ]
  },
  {
   "cell_type": "code",
   "execution_count": 14,
   "metadata": {},
   "outputs": [
    {
     "name": "stdout",
     "output_type": "stream",
     "text": [
      "Merging completed\n"
     ]
    }
   ],
   "source": [
    "# Create function to merge CSV file into one \n",
    "\n",
    "def merge_csv_files():\n",
    "    # Empty list of DataFrames for csv files\n",
    "    csv_dataframes = []\n",
    "\n",
    "    for file_path in iglob(r\"C:\\Users\\Hadeer Ashraf\\OneDrive\\Desktop\\DEPI - MS Data Engineer\\PYTHON\\10_Files_V2\\cleaned_file*.csv\"):\n",
    "        df = pd.read_csv(file_path, names = [\"A\", \"ID\", \"C\", \"Name\"])\n",
    "        df = df [[\"ID\", \"Name\"]]\n",
    "\n",
    "        csv_dataframes.append(df)\n",
    "\n",
    "    # Combine all list elemens into one dataframe\n",
    "    combined_df = pd.concat(csv_dataframes)\n",
    "    combined_df.to_csv(r\"C:\\Users\\Hadeer Ashraf\\OneDrive\\Desktop\\DEPI - MS Data Engineer\\PYTHON\\10_Files_V2\\combined.csv\", index=False)\n",
    "\n",
    "    print(\"Merging completed\")\n",
    "\n",
    "    \n",
    "merge_csv_files()\n"
   ]
  },
  {
   "cell_type": "code",
   "execution_count": null,
   "metadata": {},
   "outputs": [],
   "source": []
  }
 ],
 "metadata": {
  "kernelspec": {
   "display_name": "base",
   "language": "python",
   "name": "python3"
  },
  "language_info": {
   "codemirror_mode": {
    "name": "ipython",
    "version": 3
   },
   "file_extension": ".py",
   "mimetype": "text/x-python",
   "name": "python",
   "nbconvert_exporter": "python",
   "pygments_lexer": "ipython3",
   "version": "3.12.4"
  }
 },
 "nbformat": 4,
 "nbformat_minor": 2
}
